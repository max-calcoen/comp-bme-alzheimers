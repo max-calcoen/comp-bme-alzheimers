{
 "cells": [
  {
   "cell_type": "markdown",
   "id": "07d08828-39be-453d-9c15-7d0737ceb72f",
   "metadata": {},
   "source": [
    "# Module 1\n",
    "\n",
    "## Team Members:\n",
    "Max Calcoen\n",
    "\n",
    "Medha Tadavarthi\n",
    "\n",
    "## Project Title:\n",
    "### How does your level of education affect your susceptibility to Alzheimer's disease?\n",
    "\n"
   ]
  },
  {
   "cell_type": "markdown",
   "id": "8372d796-186a-4ae2-9b4f-0065979e555a",
   "metadata": {},
   "source": [
    "## Project Goal:\n",
    "This project seeks to understand the correlation between Alzheimer's disease and education."
   ]
  },
  {
   "attachments": {},
   "cell_type": "markdown",
   "id": "91408b75-185a-4d66-9ce7-7c7aabbde5e1",
   "metadata": {},
   "source": [
    "## Disease Background: \n",
    "*Fill in information about 11 bullets:*\n",
    "\n",
    "* Prevalence & incidence ([source](https://www.alz.org/getmedia/ef8f48f9-ad36-48ea-87f9-b74034635c1e/alzheimers-facts-and-figures.pdf))\n",
    "    * Approximately 11% of the U.S. population age 65 and older is affected by Alzheimer's disease\n",
    "    * The annual incidence of Alzheimer's disease in the U.S. is estimated at 0.4% among individuals age 65 to 74 years, 3.2% among those aged 75 to 84 years, and 7.6% among those aged 85 years and older\n",
    "* Economic burden ([source](https://www.healthaffairs.org/sponsored-content/lilly/the-hidden-economic-costs-of-alzheimers-disease))\n",
    "    * The projected economic burden of Alzheimer's disease in the U.S. is expected to reach $781 billion by 2025\n",
    "* Risk factors (genetic, lifestyle) ([source](https://www.alz.org/getmedia/ef8f48f9-ad36-48ea-87f9-b74034635c1e/alzheimers-facts-and-figures.pdf))\n",
    "    * Older age and genetic predisposition are the primary risk factors for Alzheimer's disease\n",
    "* Societal determinants ([source](https://www.cdc.gov/alzheimers-dementia/php/sdoh/index.html), [source 2](https://www.alz.org/getmedia/ef8f48f9-ad36-48ea-87f9-b74034635c1e/alzheimers-facts-and-figures.pdf))\n",
    "    * Education, income, access to health care, discrimination, and social isolation contribute to disparities in Alzheimer's risk\n",
    "    * Black adults aged 65 and older are nearly twice as likely as White adults of the same age group to develop Alzheimer's or other dementias\n",
    "* Symptoms ([source](https://www.mayoclinic.org/diseases-conditions/alzheimers-disease/symptoms-causes/syc-20350447))\n",
    "    * Cognitive symptoms include memory loss, difficulty concentrating, and impaired thinking.\n",
    "    * Emotional and behavioral symptoms include depression, loss of interest in activities, social withdrawal, mood swings, distrust, anger or aggression, changes in sleeping habits, wandering, loss of inhibitions, and delusions.\n",
    "* Diagnosis ([source](https://www.alz.org/alzheimers-dementia/diagnosis/medical_tests))\n",
    "    * no single test to evaluate alzheimer's or other dementia\n",
    "    * medical history: history of cognitive and behavioral changes, family history of alzheimer's or other dementia\n",
    "    * physical exam, diagnostic tests: diet, medications, physicals, lab test\n",
    "    * neurological exam: reflexes, coordination, eye movement, speech, sensation\n",
    "    * cognitive, functional and behavioral tests: AD8, SLUMS, IQCODE, FAQ, MMSE\n",
    "    * computerized tests and devices: growing area. includes ANAM, CANTAB, CognICA, Cognigram, Cognivue, Cognision (digital cognitive testing tools)\n",
    "    * depression screen, mood assessment: sense of wellbeing\n",
    "    * genetic testing: certain genes increase risk of alzheimer's and other rare genes (1% or less) that directly cause alzheimer's\n",
    "    * brain imaging: MRI or CT scanes rule out other conditions, or sometimes look directly at beta-amyloid\n",
    "    * cerebrospinal fluid: biomarkers (tau, beta-amyloid, neurofilament light) appear in CSF before brain, still evolving test\n",
    "    * blood test: evolving method\n",
    "* Standard of care treatments (& reimbursement) ([source](https://www.alz.org/alzheimers-dementia/treatments/navigating-treatment-options))\n",
    "    * no cure, but various drug and non-drug options for treatment\n",
    "    * drugs that treat symptoms: cognitive symptoms (chrlinesterase inhibitors, glutamate regulators), non-cognitive symptoms (orexin inhibitors), atypical antipsychotics (target serotonin and dopamine chemical pathways)\n",
    "    * drugs that change disease progression: 2 FDA-approved treatments (both anti-amyloid antibody IV infusions)\n",
    "    * as with many neurodegenerative disease, early diagnosis is important (some treatments only effective in early stages of disease). AD is a progressive brain disease: worsens over time (asymptomatic -> mild cognitive impairment -> mild -> moderate -> severe)\n",
    "* Disease progression & prognosis ([source](https://www.alz.org/alzheimers-dementia/stages))\n",
    "    * 3 stages: early (mild), middle (moderate), and late (severe)\n",
    "    * on average, a person lives 4-8 years after diagnosis\n",
    "    * early stage: may function independently. feel as if they have memory lapses (forgetting words, familiar objects, names, etc)\n",
    "    * middle stage: longest stage, lasts many years. dementia symptoms progress, including memory loss, confusion, trouble controlling bladder/bowels, personality / behavioral changes\n",
    "    * late stage: lose ability to respond to environment, control movement, communication becomes difficult. require assistance with daily personal care, lose awareness, difficulty communicating\n",
    "* Continuum of care providers ([source](https://aspe.hhs.gov/national-plan-address-alzheimers-disease))\n",
    "    * depends on location (country > state > region > city)\n",
    "    * primary and specialized medical providers provide timely and accurate diagnosis, neurologists, psychiatrists, neuropsychologists offer early detection and specialized treatment services\n",
    "    * care coordination and transition services: care coordinators oversee transitions between stages of care (diagnosis to long term management)\n",
    "    * long term support and residential care: assisted-living facilities, continuing care retirement communities, nursing homes (hopefully with dementia-specific protocols)\n",
    "    * support for caregivers and families (educational materials, culturally sensitive support, community based programs)\n",
    "    * public health and policy level \n",
    "* Biological mechanisms (anatomy, organ physiology, cell & molecular physiology)\n",
    "    * lack of clear underlying mechanism driving AD\n",
    "    * \n",
    "* Clinical Trials/next-gen therapies"
   ]
  },
  {
   "cell_type": "markdown",
   "id": "3b99aefb-cb03-4bd8-b972-437eb0e02dfe",
   "metadata": {},
   "source": [
    "## Data-Set:\n",
    "Data pulled from [Integrated multimodal cell atlas of Alzheimer’s disease](https://doi.org/10.1038/s41593-024-01774-5)\n",
    "\n",
    "The available dataset contains Luminex multiplex immunoassay measurements (protein concentrations of biomarkers amyloid-beta and tau) from postmortem brain tissue, reported in pg/mL. These measurements are paired with donor metadata (age, sex, diagnosis, cohort, disease severity) that allow stratification across the Alzheimer’s disease spectrum. Data were collected from human brain tissue donors in the SEA-AD project and processed under uniform protocols to ensure comparability across individuals"
   ]
  },
  {
   "cell_type": "markdown",
   "id": "f4cde622-5508-4a54-aba8-77b454138bff",
   "metadata": {},
   "source": [
    "## Data Analyis: \n",
    "*(Describe how you analyzed the data. This is where you should intersperse your Python code so that anyone reading this can run your code to perform the analysis that you did, generate your figures, etc.)*"
   ]
  },
  {
   "cell_type": "markdown",
   "id": "5c67b6a4-ec94-4d28-b2a7-f6b860495118",
   "metadata": {},
   "source": [
    "## Verify and validate your analysis: \n",
    "*(Describe how you checked to see that your analysis gave you an answer that you believe (verify). Describe how your determined if your analysis gave you an answer that is supported by other evidence (e.g., a published paper).*"
   ]
  },
  {
   "cell_type": "markdown",
   "id": "2736cf95-2b93-444f-90c8-d40a54fc1df1",
   "metadata": {},
   "source": [
    "## Conclusions and Ethical Implications: \n",
    "*(Think about the answer your analysis generated, draw conclusions related to your overarching question, and discuss the ethical implications of your conclusions.*"
   ]
  },
  {
   "cell_type": "markdown",
   "id": "f023b735-6efb-43ed-a03d-eb4a9cdb734e",
   "metadata": {},
   "source": [
    "## Limitations and Future Work: \n",
    "*(Think about the answer your analysis generated, draw conclusions related to your overarching question, and discuss the ethical implications of your conclusions.*"
   ]
  }
 ],
 "metadata": {
  "kernelspec": {
   "display_name": "venv",
   "language": "python",
   "name": "python3"
  },
  "language_info": {
   "codemirror_mode": {
    "name": "ipython",
    "version": 3
   },
   "file_extension": ".py",
   "mimetype": "text/x-python",
   "name": "python",
   "nbconvert_exporter": "python",
   "pygments_lexer": "ipython3",
   "version": "3.10.0"
  }
 },
 "nbformat": 4,
 "nbformat_minor": 5
}
