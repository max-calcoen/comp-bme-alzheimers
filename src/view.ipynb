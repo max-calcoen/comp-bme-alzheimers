{
 "cells": [
  {
   "cell_type": "code",
   "execution_count": 9,
   "id": "aa2ccca7",
   "metadata": {},
   "outputs": [],
   "source": [
    "import pandas as pd\n",
    "luminex = pd.read_csv('../data/UpdatedLuminex.csv')\n",
    "metadata = pd.read_csv(\"../data/Metadata_v2.csv\")"
   ]
  },
  {
   "cell_type": "code",
   "execution_count": 10,
   "id": "748f257c",
   "metadata": {},
   "outputs": [
    {
     "data": {
      "application/vnd.microsoft.datawrangler.viewer.v0+json": {
       "columns": [
        {
         "name": "index",
         "rawType": "int64",
         "type": "integer"
        },
        {
         "name": "Donor ID",
         "rawType": "object",
         "type": "string"
        },
        {
         "name": "ABeta40 pg/ug",
         "rawType": "float64",
         "type": "float"
        },
        {
         "name": "ABeta42 pg/ug",
         "rawType": "float64",
         "type": "float"
        },
        {
         "name": "tTAU pg/ug",
         "rawType": "float64",
         "type": "float"
        },
        {
         "name": "pTAU pg/ug",
         "rawType": "float64",
         "type": "float"
        }
       ],
       "ref": "4e81e660-0fda-498b-8463-cc04802f2e37",
       "rows": [
        [
         "0",
         "H20.33.045",
         "981.444",
         "142.778",
         "1122.432229",
         "5.415789474"
        ],
        [
         "1",
         "H20.33.044",
         "0.007088421",
         "0.245263158",
         "7005.543158",
         "5.630526316"
        ],
        [
         "2",
         "H21.33.045",
         "21.42315789",
         "53.87894737",
         "147.5652632",
         "11.48947368"
        ],
        [
         "3",
         "H20.33.046",
         "25.29578947",
         "69.98842105",
         "283.4368421",
         "15.91789474"
        ],
        [
         "4",
         "H20.33.014",
         "0.526168105",
         "16.13789474",
         "258.6242105",
         "3.398947368"
        ]
       ],
       "shape": {
        "columns": 5,
        "rows": 5
       }
      },
      "text/html": [
       "<div>\n",
       "<style scoped>\n",
       "    .dataframe tbody tr th:only-of-type {\n",
       "        vertical-align: middle;\n",
       "    }\n",
       "\n",
       "    .dataframe tbody tr th {\n",
       "        vertical-align: top;\n",
       "    }\n",
       "\n",
       "    .dataframe thead th {\n",
       "        text-align: right;\n",
       "    }\n",
       "</style>\n",
       "<table border=\"1\" class=\"dataframe\">\n",
       "  <thead>\n",
       "    <tr style=\"text-align: right;\">\n",
       "      <th></th>\n",
       "      <th>Donor ID</th>\n",
       "      <th>ABeta40 pg/ug</th>\n",
       "      <th>ABeta42 pg/ug</th>\n",
       "      <th>tTAU pg/ug</th>\n",
       "      <th>pTAU pg/ug</th>\n",
       "    </tr>\n",
       "  </thead>\n",
       "  <tbody>\n",
       "    <tr>\n",
       "      <th>0</th>\n",
       "      <td>H20.33.045</td>\n",
       "      <td>981.444000</td>\n",
       "      <td>142.778000</td>\n",
       "      <td>1122.432229</td>\n",
       "      <td>5.415789</td>\n",
       "    </tr>\n",
       "    <tr>\n",
       "      <th>1</th>\n",
       "      <td>H20.33.044</td>\n",
       "      <td>0.007088</td>\n",
       "      <td>0.245263</td>\n",
       "      <td>7005.543158</td>\n",
       "      <td>5.630526</td>\n",
       "    </tr>\n",
       "    <tr>\n",
       "      <th>2</th>\n",
       "      <td>H21.33.045</td>\n",
       "      <td>21.423158</td>\n",
       "      <td>53.878947</td>\n",
       "      <td>147.565263</td>\n",
       "      <td>11.489474</td>\n",
       "    </tr>\n",
       "    <tr>\n",
       "      <th>3</th>\n",
       "      <td>H20.33.046</td>\n",
       "      <td>25.295789</td>\n",
       "      <td>69.988421</td>\n",
       "      <td>283.436842</td>\n",
       "      <td>15.917895</td>\n",
       "    </tr>\n",
       "    <tr>\n",
       "      <th>4</th>\n",
       "      <td>H20.33.014</td>\n",
       "      <td>0.526168</td>\n",
       "      <td>16.137895</td>\n",
       "      <td>258.624211</td>\n",
       "      <td>3.398947</td>\n",
       "    </tr>\n",
       "  </tbody>\n",
       "</table>\n",
       "</div>"
      ],
      "text/plain": [
       "     Donor ID  ABeta40 pg/ug  ABeta42 pg/ug   tTAU pg/ug  pTAU pg/ug\n",
       "0  H20.33.045     981.444000     142.778000  1122.432229    5.415789\n",
       "1  H20.33.044       0.007088       0.245263  7005.543158    5.630526\n",
       "2  H21.33.045      21.423158      53.878947   147.565263   11.489474\n",
       "3  H20.33.046      25.295789      69.988421   283.436842   15.917895\n",
       "4  H20.33.014       0.526168      16.137895   258.624211    3.398947"
      ]
     },
     "metadata": {},
     "output_type": "display_data"
    },
    {
     "data": {
      "application/vnd.microsoft.datawrangler.viewer.v0+json": {
       "columns": [
        {
         "name": "index",
         "rawType": "int64",
         "type": "integer"
        },
        {
         "name": "Donor ID",
         "rawType": "object",
         "type": "string"
        },
        {
         "name": "Primary Study Name",
         "rawType": "object",
         "type": "string"
        },
        {
         "name": "Secondary Study Name",
         "rawType": "object",
         "type": "unknown"
        },
        {
         "name": "Age at Death",
         "rawType": "int64",
         "type": "integer"
        },
        {
         "name": "Sex",
         "rawType": "object",
         "type": "string"
        },
        {
         "name": "Race (choice=White)",
         "rawType": "object",
         "type": "string"
        },
        {
         "name": "Race (choice=Black/ African American)",
         "rawType": "object",
         "type": "string"
        },
        {
         "name": "Race (choice=Asian)",
         "rawType": "object",
         "type": "string"
        },
        {
         "name": "Race (choice=American Indian/ Alaska Native)",
         "rawType": "object",
         "type": "string"
        },
        {
         "name": "Race (choice=Native Hawaiian or Pacific Islander)",
         "rawType": "object",
         "type": "string"
        },
        {
         "name": "Race (choice=Unknown or unreported)",
         "rawType": "object",
         "type": "string"
        },
        {
         "name": "Race (choice=Other)",
         "rawType": "object",
         "type": "string"
        },
        {
         "name": "specify other race",
         "rawType": "object",
         "type": "unknown"
        },
        {
         "name": "Hispanic/Latino",
         "rawType": "object",
         "type": "string"
        },
        {
         "name": "Highest level of education",
         "rawType": "object",
         "type": "string"
        },
        {
         "name": "Years of education",
         "rawType": "int64",
         "type": "integer"
        },
        {
         "name": "APOE Genotype",
         "rawType": "object",
         "type": "string"
        },
        {
         "name": "Cognitive Status",
         "rawType": "object",
         "type": "string"
        },
        {
         "name": "Age of onset cognitive symptoms",
         "rawType": "float64",
         "type": "float"
        },
        {
         "name": "Age of Dementia diagnosis",
         "rawType": "float64",
         "type": "float"
        },
        {
         "name": "Known head injury",
         "rawType": "object",
         "type": "unknown"
        },
        {
         "name": "Have they had neuroimaging",
         "rawType": "object",
         "type": "string"
        },
        {
         "name": "Consensus Clinical Dx (choice=Alzheimers disease)",
         "rawType": "object",
         "type": "string"
        },
        {
         "name": "Consensus Clinical Dx (choice=Alzheimers Possible/ Probable)",
         "rawType": "object",
         "type": "string"
        },
        {
         "name": "Consensus Clinical Dx (choice=Ataxia)",
         "rawType": "object",
         "type": "string"
        },
        {
         "name": "Consensus Clinical Dx (choice=Corticobasal Degeneration)",
         "rawType": "object",
         "type": "string"
        },
        {
         "name": "Consensus Clinical Dx (choice=Control)",
         "rawType": "object",
         "type": "string"
        },
        {
         "name": "Consensus Clinical Dx (choice=Dementia with Lewy Bodies/ Lewy Body Disease)",
         "rawType": "object",
         "type": "string"
        },
        {
         "name": "Consensus Clinical Dx (choice=Frontotemporal lobar degeneration)",
         "rawType": "object",
         "type": "string"
        },
        {
         "name": "Consensus Clinical Dx (choice=Huntingtons disease)",
         "rawType": "object",
         "type": "string"
        },
        {
         "name": "Consensus Clinical Dx (choice=Motor Neuron disease)",
         "rawType": "object",
         "type": "string"
        },
        {
         "name": "Consensus Clinical Dx (choice=Multiple System Atrophy)",
         "rawType": "object",
         "type": "string"
        },
        {
         "name": "Consensus Clinical Dx (choice=Parkinsons disease)",
         "rawType": "object",
         "type": "string"
        },
        {
         "name": "Consensus Clinical Dx (choice=Parkinsons Cognitive Impairment - no dementia)",
         "rawType": "object",
         "type": "string"
        },
        {
         "name": "Consensus Clinical Dx (choice=Parkinsons Disease Dementia)",
         "rawType": "object",
         "type": "string"
        },
        {
         "name": "Consensus Clinical Dx (choice=Prion)",
         "rawType": "object",
         "type": "string"
        },
        {
         "name": "Consensus Clinical Dx (choice=Progressive Supranuclear Palsy)",
         "rawType": "object",
         "type": "string"
        },
        {
         "name": "Consensus Clinical Dx (choice=Taupathy)",
         "rawType": "object",
         "type": "string"
        },
        {
         "name": "Consensus Clinical Dx (choice=Vascular Dementia)",
         "rawType": "object",
         "type": "string"
        },
        {
         "name": "Consensus Clinical Dx (choice=Unknown)",
         "rawType": "object",
         "type": "string"
        },
        {
         "name": "Consensus Clinical Dx (choice=Other)",
         "rawType": "object",
         "type": "string"
        },
        {
         "name": "If other Consensus dx, describe",
         "rawType": "object",
         "type": "unknown"
        },
        {
         "name": "Last CASI Score",
         "rawType": "float64",
         "type": "float"
        },
        {
         "name": "Interval from last CASI in months",
         "rawType": "float64",
         "type": "float"
        },
        {
         "name": "Last MMSE Score",
         "rawType": "float64",
         "type": "float"
        },
        {
         "name": "Interval from last MMSE in months",
         "rawType": "float64",
         "type": "float"
        },
        {
         "name": "Last MOCA Score",
         "rawType": "float64",
         "type": "float"
        },
        {
         "name": "Interval from last MOCA in months",
         "rawType": "float64",
         "type": "float"
        },
        {
         "name": "PMI",
         "rawType": "float64",
         "type": "float"
        },
        {
         "name": "Rapid Frozen Tissue Type",
         "rawType": "object",
         "type": "string"
        },
        {
         "name": "Ex Vivo Imaging",
         "rawType": "object",
         "type": "string"
        },
        {
         "name": "Fresh Brain Weight",
         "rawType": "object",
         "type": "string"
        },
        {
         "name": "Brain pH",
         "rawType": "float64",
         "type": "float"
        },
        {
         "name": "Overall AD neuropathological Change",
         "rawType": "object",
         "type": "string"
        },
        {
         "name": "Thal",
         "rawType": "object",
         "type": "string"
        },
        {
         "name": "Braak",
         "rawType": "object",
         "type": "string"
        },
        {
         "name": "CERAD score",
         "rawType": "object",
         "type": "string"
        },
        {
         "name": "Overall CAA Score",
         "rawType": "object",
         "type": "string"
        },
        {
         "name": "Highest Lewy Body Disease",
         "rawType": "object",
         "type": "string"
        },
        {
         "name": "Total Microinfarcts (not observed grossly)",
         "rawType": "int64",
         "type": "integer"
        },
        {
         "name": "Total microinfarcts in screening sections",
         "rawType": "int64",
         "type": "integer"
        },
        {
         "name": "Atherosclerosis",
         "rawType": "object",
         "type": "string"
        },
        {
         "name": "Arteriolosclerosis",
         "rawType": "object",
         "type": "string"
        },
        {
         "name": "LATE",
         "rawType": "object",
         "type": "string"
        },
        {
         "name": "RIN",
         "rawType": "float64",
         "type": "float"
        },
        {
         "name": "Severely Affected Donor",
         "rawType": "object",
         "type": "unknown"
        }
       ],
       "ref": "1b9e8e31-2e4c-48f7-9652-8b7942479b7a",
       "rows": [
        [
         "0",
         "H19.33.004",
         "ACT",
         null,
         "80",
         "Female",
         "Checked",
         "Unchecked",
         "Unchecked",
         "Unchecked",
         "Unchecked",
         "Unchecked",
         "Unchecked",
         null,
         "No",
         "Bachelors",
         "17",
         "3/3",
         "No dementia",
         null,
         null,
         null,
         "Unknown",
         "Unchecked",
         "Unchecked",
         "Unchecked",
         "Unchecked",
         "Checked",
         "Unchecked",
         "Unchecked",
         "Unchecked",
         "Unchecked",
         "Unchecked",
         "Unchecked",
         "Unchecked",
         "Unchecked",
         "Unchecked",
         "Unchecked",
         "Unchecked",
         "Unchecked",
         "Unchecked",
         "Unchecked",
         null,
         "85.0",
         "3.5",
         "25.0",
         "3.5",
         null,
         null,
         "8.13",
         "Precision Slices",
         "Yes",
         "1035.00",
         "7.0",
         "Not AD",
         "Thal 0",
         "Braak IV",
         "Absent",
         "Not identified",
         "Not Identified (olfactory bulb not assessed)",
         "1",
         "1",
         "Mild",
         "Moderate",
         "Not Identified",
         "8.33",
         null
        ],
        [
         "1",
         "H20.33.001",
         "ACT",
         null,
         "82",
         "Male",
         "Checked",
         "Unchecked",
         "Unchecked",
         "Unchecked",
         "Unchecked",
         "Unchecked",
         "Unchecked",
         null,
         "No",
         "Bachelors",
         "16",
         "3/3",
         "No dementia",
         null,
         null,
         null,
         "Yes",
         "Unchecked",
         "Unchecked",
         "Unchecked",
         "Unchecked",
         "Checked",
         "Unchecked",
         "Unchecked",
         "Unchecked",
         "Unchecked",
         "Unchecked",
         "Unchecked",
         "Unchecked",
         "Unchecked",
         "Unchecked",
         "Unchecked",
         "Unchecked",
         "Unchecked",
         "Unchecked",
         "Unchecked",
         null,
         "97.0",
         "18.2",
         "28.0",
         "18.2",
         null,
         null,
         "7.7",
         "Precision Slices",
         "Yes",
         "1338.00",
         "6.8",
         "Low",
         "Thal 2",
         "Braak IV",
         "Sparse",
         "Not identified",
         "Not Identified (olfactory bulb not assessed)",
         "0",
         "0",
         "Mild",
         "Mild",
         "LATE Stage 2",
         "8.6",
         null
        ],
        [
         "2",
         "H20.33.002",
         "ACT",
         null,
         "97",
         "Female",
         "Checked",
         "Unchecked",
         "Unchecked",
         "Unchecked",
         "Unchecked",
         "Unchecked",
         "Unchecked",
         null,
         "No",
         "High School",
         "12",
         "2/3",
         "No dementia",
         null,
         null,
         null,
         "Unknown",
         "Unchecked",
         "Unchecked",
         "Unchecked",
         "Unchecked",
         "Checked",
         "Unchecked",
         "Unchecked",
         "Unchecked",
         "Unchecked",
         "Unchecked",
         "Unchecked",
         "Unchecked",
         "Unchecked",
         "Unchecked",
         "Unchecked",
         "Unchecked",
         "Unchecked",
         "Unchecked",
         "Unchecked",
         null,
         "93.0",
         "46.1",
         "33.0",
         "22.6",
         null,
         null,
         "4.33",
         "Precision Slices",
         "Yes",
         "1078.00",
         "7.3",
         "Not AD",
         "Thal 0",
         "Braak IV",
         "Absent",
         "Not identified",
         "Limbic (Transitional)",
         "0",
         "0",
         "Moderate",
         "Moderate",
         "LATE Stage 2",
         "7.87",
         null
        ],
        [
         "3",
         "H20.33.004",
         "ACT",
         null,
         "86",
         "Male",
         "Checked",
         "Unchecked",
         "Unchecked",
         "Unchecked",
         "Unchecked",
         "Unchecked",
         "Unchecked",
         null,
         "No",
         "Trade School/ Tech School",
         "15",
         "3/4",
         "Dementia",
         "80.0",
         "81.0",
         "No",
         "Yes",
         "Checked",
         "Unchecked",
         "Unchecked",
         "Unchecked",
         "Unchecked",
         "Unchecked",
         "Unchecked",
         "Unchecked",
         "Unchecked",
         "Unchecked",
         "Unchecked",
         "Unchecked",
         "Unchecked",
         "Unchecked",
         "Unchecked",
         "Unchecked",
         "Unchecked",
         "Unchecked",
         "Unchecked",
         null,
         "80.0",
         "55.7",
         "25.0",
         "55.7",
         null,
         null,
         "8.83",
         "Precision Slices",
         "Yes",
         "1261.00",
         "6.7",
         "High",
         "Thal 5",
         "Braak V",
         "Frequent",
         "Moderate",
         "Neocortical (Diffuse)",
         "0",
         "0",
         "Mild",
         "Severe",
         "LATE Stage 1",
         "7.83",
         null
        ],
        [
         "4",
         "H20.33.005",
         "ACT",
         null,
         "99",
         "Female",
         "Checked",
         "Unchecked",
         "Unchecked",
         "Unchecked",
         "Unchecked",
         "Unchecked",
         "Unchecked",
         null,
         "No",
         "High School",
         "12",
         "2/3",
         "No dementia",
         null,
         null,
         null,
         "Unknown",
         "Unchecked",
         "Unchecked",
         "Unchecked",
         "Unchecked",
         "Checked",
         "Unchecked",
         "Unchecked",
         "Unchecked",
         "Unchecked",
         "Unchecked",
         "Unchecked",
         "Unchecked",
         "Unchecked",
         "Unchecked",
         "Unchecked",
         "Unchecked",
         "Unchecked",
         "Unchecked",
         "Unchecked",
         null,
         "94.0",
         "24.2",
         "29.0",
         "24.2",
         null,
         null,
         "7.6",
         "Precision Slices",
         "Yes",
         "1003.00",
         "6.8",
         "Intermediate",
         "Thal 3",
         "Braak IV",
         "Moderate",
         "Moderate",
         "Not Identified (olfactory bulb not assessed)",
         "2",
         "2",
         "Mild",
         "Moderate",
         "LATE Stage 1",
         "8.4",
         null
        ]
       ],
       "shape": {
        "columns": 66,
        "rows": 5
       }
      },
      "text/html": [
       "<div>\n",
       "<style scoped>\n",
       "    .dataframe tbody tr th:only-of-type {\n",
       "        vertical-align: middle;\n",
       "    }\n",
       "\n",
       "    .dataframe tbody tr th {\n",
       "        vertical-align: top;\n",
       "    }\n",
       "\n",
       "    .dataframe thead th {\n",
       "        text-align: right;\n",
       "    }\n",
       "</style>\n",
       "<table border=\"1\" class=\"dataframe\">\n",
       "  <thead>\n",
       "    <tr style=\"text-align: right;\">\n",
       "      <th></th>\n",
       "      <th>Donor ID</th>\n",
       "      <th>Primary Study Name</th>\n",
       "      <th>Secondary Study Name</th>\n",
       "      <th>Age at Death</th>\n",
       "      <th>Sex</th>\n",
       "      <th>Race (choice=White)</th>\n",
       "      <th>Race (choice=Black/ African American)</th>\n",
       "      <th>Race (choice=Asian)</th>\n",
       "      <th>Race (choice=American Indian/ Alaska Native)</th>\n",
       "      <th>Race (choice=Native Hawaiian or Pacific Islander)</th>\n",
       "      <th>...</th>\n",
       "      <th>CERAD score</th>\n",
       "      <th>Overall CAA Score</th>\n",
       "      <th>Highest Lewy Body Disease</th>\n",
       "      <th>Total Microinfarcts (not observed grossly)</th>\n",
       "      <th>Total microinfarcts in screening sections</th>\n",
       "      <th>Atherosclerosis</th>\n",
       "      <th>Arteriolosclerosis</th>\n",
       "      <th>LATE</th>\n",
       "      <th>RIN</th>\n",
       "      <th>Severely Affected Donor</th>\n",
       "    </tr>\n",
       "  </thead>\n",
       "  <tbody>\n",
       "    <tr>\n",
       "      <th>0</th>\n",
       "      <td>H19.33.004</td>\n",
       "      <td>ACT</td>\n",
       "      <td>NaN</td>\n",
       "      <td>80</td>\n",
       "      <td>Female</td>\n",
       "      <td>Checked</td>\n",
       "      <td>Unchecked</td>\n",
       "      <td>Unchecked</td>\n",
       "      <td>Unchecked</td>\n",
       "      <td>Unchecked</td>\n",
       "      <td>...</td>\n",
       "      <td>Absent</td>\n",
       "      <td>Not identified</td>\n",
       "      <td>Not Identified (olfactory bulb not assessed)</td>\n",
       "      <td>1</td>\n",
       "      <td>1</td>\n",
       "      <td>Mild</td>\n",
       "      <td>Moderate</td>\n",
       "      <td>Not Identified</td>\n",
       "      <td>8.33</td>\n",
       "      <td>NaN</td>\n",
       "    </tr>\n",
       "    <tr>\n",
       "      <th>1</th>\n",
       "      <td>H20.33.001</td>\n",
       "      <td>ACT</td>\n",
       "      <td>NaN</td>\n",
       "      <td>82</td>\n",
       "      <td>Male</td>\n",
       "      <td>Checked</td>\n",
       "      <td>Unchecked</td>\n",
       "      <td>Unchecked</td>\n",
       "      <td>Unchecked</td>\n",
       "      <td>Unchecked</td>\n",
       "      <td>...</td>\n",
       "      <td>Sparse</td>\n",
       "      <td>Not identified</td>\n",
       "      <td>Not Identified (olfactory bulb not assessed)</td>\n",
       "      <td>0</td>\n",
       "      <td>0</td>\n",
       "      <td>Mild</td>\n",
       "      <td>Mild</td>\n",
       "      <td>LATE Stage 2</td>\n",
       "      <td>8.60</td>\n",
       "      <td>NaN</td>\n",
       "    </tr>\n",
       "    <tr>\n",
       "      <th>2</th>\n",
       "      <td>H20.33.002</td>\n",
       "      <td>ACT</td>\n",
       "      <td>NaN</td>\n",
       "      <td>97</td>\n",
       "      <td>Female</td>\n",
       "      <td>Checked</td>\n",
       "      <td>Unchecked</td>\n",
       "      <td>Unchecked</td>\n",
       "      <td>Unchecked</td>\n",
       "      <td>Unchecked</td>\n",
       "      <td>...</td>\n",
       "      <td>Absent</td>\n",
       "      <td>Not identified</td>\n",
       "      <td>Limbic (Transitional)</td>\n",
       "      <td>0</td>\n",
       "      <td>0</td>\n",
       "      <td>Moderate</td>\n",
       "      <td>Moderate</td>\n",
       "      <td>LATE Stage 2</td>\n",
       "      <td>7.87</td>\n",
       "      <td>NaN</td>\n",
       "    </tr>\n",
       "    <tr>\n",
       "      <th>3</th>\n",
       "      <td>H20.33.004</td>\n",
       "      <td>ACT</td>\n",
       "      <td>NaN</td>\n",
       "      <td>86</td>\n",
       "      <td>Male</td>\n",
       "      <td>Checked</td>\n",
       "      <td>Unchecked</td>\n",
       "      <td>Unchecked</td>\n",
       "      <td>Unchecked</td>\n",
       "      <td>Unchecked</td>\n",
       "      <td>...</td>\n",
       "      <td>Frequent</td>\n",
       "      <td>Moderate</td>\n",
       "      <td>Neocortical (Diffuse)</td>\n",
       "      <td>0</td>\n",
       "      <td>0</td>\n",
       "      <td>Mild</td>\n",
       "      <td>Severe</td>\n",
       "      <td>LATE Stage 1</td>\n",
       "      <td>7.83</td>\n",
       "      <td>NaN</td>\n",
       "    </tr>\n",
       "    <tr>\n",
       "      <th>4</th>\n",
       "      <td>H20.33.005</td>\n",
       "      <td>ACT</td>\n",
       "      <td>NaN</td>\n",
       "      <td>99</td>\n",
       "      <td>Female</td>\n",
       "      <td>Checked</td>\n",
       "      <td>Unchecked</td>\n",
       "      <td>Unchecked</td>\n",
       "      <td>Unchecked</td>\n",
       "      <td>Unchecked</td>\n",
       "      <td>...</td>\n",
       "      <td>Moderate</td>\n",
       "      <td>Moderate</td>\n",
       "      <td>Not Identified (olfactory bulb not assessed)</td>\n",
       "      <td>2</td>\n",
       "      <td>2</td>\n",
       "      <td>Mild</td>\n",
       "      <td>Moderate</td>\n",
       "      <td>LATE Stage 1</td>\n",
       "      <td>8.40</td>\n",
       "      <td>NaN</td>\n",
       "    </tr>\n",
       "  </tbody>\n",
       "</table>\n",
       "<p>5 rows × 66 columns</p>\n",
       "</div>"
      ],
      "text/plain": [
       "     Donor ID Primary Study Name Secondary Study Name  Age at Death     Sex  \\\n",
       "0  H19.33.004                ACT                  NaN            80  Female   \n",
       "1  H20.33.001                ACT                  NaN            82    Male   \n",
       "2  H20.33.002                ACT                  NaN            97  Female   \n",
       "3  H20.33.004                ACT                  NaN            86    Male   \n",
       "4  H20.33.005                ACT                  NaN            99  Female   \n",
       "\n",
       "  Race (choice=White) Race (choice=Black/ African American)  \\\n",
       "0             Checked                             Unchecked   \n",
       "1             Checked                             Unchecked   \n",
       "2             Checked                             Unchecked   \n",
       "3             Checked                             Unchecked   \n",
       "4             Checked                             Unchecked   \n",
       "\n",
       "  Race (choice=Asian) Race (choice=American Indian/ Alaska Native)  \\\n",
       "0           Unchecked                                    Unchecked   \n",
       "1           Unchecked                                    Unchecked   \n",
       "2           Unchecked                                    Unchecked   \n",
       "3           Unchecked                                    Unchecked   \n",
       "4           Unchecked                                    Unchecked   \n",
       "\n",
       "  Race (choice=Native Hawaiian or Pacific Islander)  ... CERAD score  \\\n",
       "0                                         Unchecked  ...      Absent   \n",
       "1                                         Unchecked  ...      Sparse   \n",
       "2                                         Unchecked  ...      Absent   \n",
       "3                                         Unchecked  ...    Frequent   \n",
       "4                                         Unchecked  ...    Moderate   \n",
       "\n",
       "  Overall CAA Score                     Highest Lewy Body Disease  \\\n",
       "0    Not identified  Not Identified (olfactory bulb not assessed)   \n",
       "1    Not identified  Not Identified (olfactory bulb not assessed)   \n",
       "2    Not identified                         Limbic (Transitional)   \n",
       "3          Moderate                         Neocortical (Diffuse)   \n",
       "4          Moderate  Not Identified (olfactory bulb not assessed)   \n",
       "\n",
       "  Total Microinfarcts (not observed grossly)  \\\n",
       "0                                          1   \n",
       "1                                          0   \n",
       "2                                          0   \n",
       "3                                          0   \n",
       "4                                          2   \n",
       "\n",
       "  Total microinfarcts in screening sections  Atherosclerosis  \\\n",
       "0                                         1             Mild   \n",
       "1                                         0             Mild   \n",
       "2                                         0         Moderate   \n",
       "3                                         0             Mild   \n",
       "4                                         2             Mild   \n",
       "\n",
       "  Arteriolosclerosis            LATE   RIN  Severely Affected Donor  \n",
       "0           Moderate  Not Identified  8.33                      NaN  \n",
       "1               Mild    LATE Stage 2  8.60                      NaN  \n",
       "2           Moderate    LATE Stage 2  7.87                      NaN  \n",
       "3             Severe    LATE Stage 1  7.83                      NaN  \n",
       "4           Moderate    LATE Stage 1  8.40                      NaN  \n",
       "\n",
       "[5 rows x 66 columns]"
      ]
     },
     "metadata": {},
     "output_type": "display_data"
    }
   ],
   "source": [
    "display(luminex.head())\n",
    "display(metadata.head())"
   ]
  },
  {
   "cell_type": "code",
   "execution_count": 11,
   "id": "9d3b71bb",
   "metadata": {},
   "outputs": [
    {
     "data": {
      "application/vnd.microsoft.datawrangler.viewer.v0+json": {
       "columns": [
        {
         "name": "index",
         "rawType": "int64",
         "type": "integer"
        },
        {
         "name": "Donor ID",
         "rawType": "object",
         "type": "string"
        },
        {
         "name": "ABeta40 pg/ug",
         "rawType": "float64",
         "type": "float"
        },
        {
         "name": "ABeta42 pg/ug",
         "rawType": "float64",
         "type": "float"
        },
        {
         "name": "tTAU pg/ug",
         "rawType": "float64",
         "type": "float"
        },
        {
         "name": "pTAU pg/ug",
         "rawType": "float64",
         "type": "float"
        },
        {
         "name": "Primary Study Name",
         "rawType": "object",
         "type": "string"
        },
        {
         "name": "Secondary Study Name",
         "rawType": "object",
         "type": "unknown"
        },
        {
         "name": "Age at Death",
         "rawType": "int64",
         "type": "integer"
        },
        {
         "name": "Sex",
         "rawType": "object",
         "type": "string"
        },
        {
         "name": "Race (choice=White)",
         "rawType": "object",
         "type": "string"
        },
        {
         "name": "Race (choice=Black/ African American)",
         "rawType": "object",
         "type": "string"
        },
        {
         "name": "Race (choice=Asian)",
         "rawType": "object",
         "type": "string"
        },
        {
         "name": "Race (choice=American Indian/ Alaska Native)",
         "rawType": "object",
         "type": "string"
        },
        {
         "name": "Race (choice=Native Hawaiian or Pacific Islander)",
         "rawType": "object",
         "type": "string"
        },
        {
         "name": "Race (choice=Unknown or unreported)",
         "rawType": "object",
         "type": "string"
        },
        {
         "name": "Race (choice=Other)",
         "rawType": "object",
         "type": "string"
        },
        {
         "name": "specify other race",
         "rawType": "object",
         "type": "unknown"
        },
        {
         "name": "Hispanic/Latino",
         "rawType": "object",
         "type": "string"
        },
        {
         "name": "Highest level of education",
         "rawType": "object",
         "type": "string"
        },
        {
         "name": "Years of education",
         "rawType": "int64",
         "type": "integer"
        },
        {
         "name": "APOE Genotype",
         "rawType": "object",
         "type": "string"
        },
        {
         "name": "Cognitive Status",
         "rawType": "object",
         "type": "string"
        },
        {
         "name": "Age of onset cognitive symptoms",
         "rawType": "float64",
         "type": "float"
        },
        {
         "name": "Age of Dementia diagnosis",
         "rawType": "float64",
         "type": "float"
        },
        {
         "name": "Known head injury",
         "rawType": "object",
         "type": "unknown"
        },
        {
         "name": "Have they had neuroimaging",
         "rawType": "object",
         "type": "string"
        },
        {
         "name": "Consensus Clinical Dx (choice=Alzheimers disease)",
         "rawType": "object",
         "type": "string"
        },
        {
         "name": "Consensus Clinical Dx (choice=Alzheimers Possible/ Probable)",
         "rawType": "object",
         "type": "string"
        },
        {
         "name": "Consensus Clinical Dx (choice=Ataxia)",
         "rawType": "object",
         "type": "string"
        },
        {
         "name": "Consensus Clinical Dx (choice=Corticobasal Degeneration)",
         "rawType": "object",
         "type": "string"
        },
        {
         "name": "Consensus Clinical Dx (choice=Control)",
         "rawType": "object",
         "type": "string"
        },
        {
         "name": "Consensus Clinical Dx (choice=Dementia with Lewy Bodies/ Lewy Body Disease)",
         "rawType": "object",
         "type": "string"
        },
        {
         "name": "Consensus Clinical Dx (choice=Frontotemporal lobar degeneration)",
         "rawType": "object",
         "type": "string"
        },
        {
         "name": "Consensus Clinical Dx (choice=Huntingtons disease)",
         "rawType": "object",
         "type": "string"
        },
        {
         "name": "Consensus Clinical Dx (choice=Motor Neuron disease)",
         "rawType": "object",
         "type": "string"
        },
        {
         "name": "Consensus Clinical Dx (choice=Multiple System Atrophy)",
         "rawType": "object",
         "type": "string"
        },
        {
         "name": "Consensus Clinical Dx (choice=Parkinsons disease)",
         "rawType": "object",
         "type": "string"
        },
        {
         "name": "Consensus Clinical Dx (choice=Parkinsons Cognitive Impairment - no dementia)",
         "rawType": "object",
         "type": "string"
        },
        {
         "name": "Consensus Clinical Dx (choice=Parkinsons Disease Dementia)",
         "rawType": "object",
         "type": "string"
        },
        {
         "name": "Consensus Clinical Dx (choice=Prion)",
         "rawType": "object",
         "type": "string"
        },
        {
         "name": "Consensus Clinical Dx (choice=Progressive Supranuclear Palsy)",
         "rawType": "object",
         "type": "string"
        },
        {
         "name": "Consensus Clinical Dx (choice=Taupathy)",
         "rawType": "object",
         "type": "string"
        },
        {
         "name": "Consensus Clinical Dx (choice=Vascular Dementia)",
         "rawType": "object",
         "type": "string"
        },
        {
         "name": "Consensus Clinical Dx (choice=Unknown)",
         "rawType": "object",
         "type": "string"
        },
        {
         "name": "Consensus Clinical Dx (choice=Other)",
         "rawType": "object",
         "type": "string"
        },
        {
         "name": "If other Consensus dx, describe",
         "rawType": "object",
         "type": "unknown"
        },
        {
         "name": "Last CASI Score",
         "rawType": "float64",
         "type": "float"
        },
        {
         "name": "Interval from last CASI in months",
         "rawType": "float64",
         "type": "float"
        },
        {
         "name": "Last MMSE Score",
         "rawType": "float64",
         "type": "float"
        },
        {
         "name": "Interval from last MMSE in months",
         "rawType": "float64",
         "type": "float"
        },
        {
         "name": "Last MOCA Score",
         "rawType": "float64",
         "type": "float"
        },
        {
         "name": "Interval from last MOCA in months",
         "rawType": "float64",
         "type": "float"
        },
        {
         "name": "PMI",
         "rawType": "float64",
         "type": "float"
        },
        {
         "name": "Rapid Frozen Tissue Type",
         "rawType": "object",
         "type": "string"
        },
        {
         "name": "Ex Vivo Imaging",
         "rawType": "object",
         "type": "string"
        },
        {
         "name": "Fresh Brain Weight",
         "rawType": "object",
         "type": "string"
        },
        {
         "name": "Brain pH",
         "rawType": "float64",
         "type": "float"
        },
        {
         "name": "Overall AD neuropathological Change",
         "rawType": "object",
         "type": "string"
        },
        {
         "name": "Thal",
         "rawType": "object",
         "type": "string"
        },
        {
         "name": "Braak",
         "rawType": "object",
         "type": "string"
        },
        {
         "name": "CERAD score",
         "rawType": "object",
         "type": "string"
        },
        {
         "name": "Overall CAA Score",
         "rawType": "object",
         "type": "string"
        },
        {
         "name": "Highest Lewy Body Disease",
         "rawType": "object",
         "type": "string"
        },
        {
         "name": "Total Microinfarcts (not observed grossly)",
         "rawType": "int64",
         "type": "integer"
        },
        {
         "name": "Total microinfarcts in screening sections",
         "rawType": "int64",
         "type": "integer"
        },
        {
         "name": "Atherosclerosis",
         "rawType": "object",
         "type": "unknown"
        },
        {
         "name": "Arteriolosclerosis",
         "rawType": "object",
         "type": "string"
        },
        {
         "name": "LATE",
         "rawType": "object",
         "type": "string"
        },
        {
         "name": "RIN",
         "rawType": "float64",
         "type": "float"
        },
        {
         "name": "Severely Affected Donor",
         "rawType": "object",
         "type": "unknown"
        }
       ],
       "ref": "ee197923-39da-4b7e-872a-6a5757f9411e",
       "rows": [
        [
         "0",
         "H20.33.045",
         "981.444",
         "142.778",
         "1122.432229",
         "5.415789474",
         "ADRC Clinical Core",
         null,
         "77",
         "Female",
         "Checked",
         "Unchecked",
         "Unchecked",
         "Unchecked",
         "Unchecked",
         "Unchecked",
         "Unchecked",
         null,
         "No",
         "Graduate (PhD/Masters)",
         "18",
         "4/4",
         "Dementia",
         "63.0",
         "65.0",
         null,
         "Unknown",
         "Checked",
         "Unchecked",
         "Unchecked",
         "Unchecked",
         "Unchecked",
         "Unchecked",
         "Unchecked",
         "Unchecked",
         "Unchecked",
         "Unchecked",
         "Unchecked",
         "Unchecked",
         "Unchecked",
         "Unchecked",
         "Unchecked",
         "Unchecked",
         "Unchecked",
         "Unchecked",
         "Checked",
         null,
         null,
         null,
         "6.0",
         "88.8",
         null,
         null,
         "3.3",
         "Precision Slices",
         "Yes",
         "1030.00",
         "7.3",
         "High",
         "Thal 5",
         "Braak VI",
         "Frequent",
         "Not identified",
         "Not Identified (olfactory bulb not assessed)",
         "4",
         "4",
         "Moderate",
         "Severe",
         "LATE Stage 2",
         "8.15",
         null
        ],
        [
         "1",
         "H20.33.044",
         "0.007088421",
         "0.245263158",
         "7005.543158",
         "5.630526316",
         "ACT",
         null,
         "81",
         "Male",
         "Checked",
         "Unchecked",
         "Unchecked",
         "Unchecked",
         "Unchecked",
         "Unchecked",
         "Unchecked",
         null,
         "No",
         "Graduate (PhD/Masters)",
         "19",
         "2/3",
         "No dementia",
         null,
         null,
         null,
         "Unknown",
         "Unchecked",
         "Unchecked",
         "Unchecked",
         "Unchecked",
         "Checked",
         "Unchecked",
         "Unchecked",
         "Unchecked",
         "Unchecked",
         "Unchecked",
         "Unchecked",
         "Unchecked",
         "Unchecked",
         "Unchecked",
         "Unchecked",
         "Unchecked",
         "Unchecked",
         "Unchecked",
         "Checked",
         "Note in 2018 OPCA vs MSA?",
         "88.0",
         "39.5",
         "24.0",
         "39.5",
         null,
         null,
         "4.7",
         "Precision Slices",
         "No",
         "1172.00",
         "7.6",
         "Not AD",
         "Thal 0",
         "Braak V",
         "Absent",
         "Not identified",
         "Not Identified (olfactory bulb not assessed)",
         "3",
         "1",
         "Mild",
         "Moderate",
         "LATE Stage 1",
         "9.2",
         null
        ],
        [
         "2",
         "H21.33.045",
         "21.42315789",
         "53.87894737",
         "147.5652632",
         "11.48947368",
         "ADRC Clinical Core",
         null,
         "94",
         "Female",
         "Unchecked",
         "Unchecked",
         "Checked",
         "Unchecked",
         "Unchecked",
         "Unchecked",
         "Unchecked",
         null,
         "No",
         "High School",
         "12",
         "3/4",
         "Dementia",
         "78.0",
         "78.0",
         null,
         "Unknown",
         "Unchecked",
         "Checked",
         "Unchecked",
         "Unchecked",
         "Unchecked",
         "Unchecked",
         "Unchecked",
         "Unchecked",
         "Unchecked",
         "Unchecked",
         "Unchecked",
         "Unchecked",
         "Unchecked",
         "Unchecked",
         "Unchecked",
         "Unchecked",
         "Unchecked",
         "Unchecked",
         "Unchecked",
         null,
         null,
         null,
         "17.0",
         "65.3",
         null,
         null,
         "4.0",
         "Precision Slices",
         "Yes",
         "925.00",
         "7.2",
         "High",
         "Thal 4",
         "Braak VI",
         "Frequent",
         "Moderate",
         "Limbic (Transitional)",
         "0",
         "0",
         "Moderate",
         "Moderate",
         "LATE Stage 3",
         "6.55",
         "Y"
        ],
        [
         "3",
         "H20.33.046",
         "25.29578947",
         "69.98842105",
         "283.4368421",
         "15.91789474",
         "ACT",
         "ADRC Clinical Core",
         "94",
         "Male",
         "Checked",
         "Unchecked",
         "Unchecked",
         "Unchecked",
         "Unchecked",
         "Unchecked",
         "Unchecked",
         null,
         "No",
         "Professional",
         "21",
         "3/3",
         "Dementia",
         "88.0",
         "91.0",
         null,
         "Unknown",
         "Checked",
         "Unchecked",
         "Unchecked",
         "Unchecked",
         "Unchecked",
         "Checked",
         "Unchecked",
         "Unchecked",
         "Unchecked",
         "Unchecked",
         "Unchecked",
         "Unchecked",
         "Unchecked",
         "Unchecked",
         "Unchecked",
         "Unchecked",
         "Unchecked",
         "Unchecked",
         "Unchecked",
         null,
         "68.0",
         "37.8",
         "18.0",
         "1.8",
         "20.0",
         "41.2",
         "8.0",
         "Precision Slices",
         "Yes",
         "1321.00",
         "6.2",
         "High",
         "Thal 5",
         "Braak VI",
         "Frequent",
         "Moderate",
         "Not Identified (olfactory bulb not assessed)",
         "1",
         "1",
         "Moderate",
         "Severe",
         "LATE Stage 2",
         "5.67",
         "Y"
        ],
        [
         "4",
         "H20.33.014",
         "0.526168105",
         "16.13789474",
         "258.6242105",
         "3.398947368",
         "ADRC Clinical Core",
         null,
         "82",
         "Female",
         "Checked",
         "Unchecked",
         "Unchecked",
         "Unchecked",
         "Unchecked",
         "Unchecked",
         "Unchecked",
         null,
         "No",
         "Graduate (PhD/Masters)",
         "16",
         "3/3",
         "No dementia",
         null,
         null,
         null,
         "Unknown",
         "Unchecked",
         "Unchecked",
         "Unchecked",
         "Unchecked",
         "Checked",
         "Unchecked",
         "Unchecked",
         "Unchecked",
         "Unchecked",
         "Unchecked",
         "Unchecked",
         "Unchecked",
         "Unchecked",
         "Unchecked",
         "Unchecked",
         "Unchecked",
         "Unchecked",
         "Unchecked",
         "Unchecked",
         null,
         null,
         null,
         null,
         null,
         "25.0",
         "15.8",
         "7.4",
         "Precision Slices",
         "Yes",
         "1275.00",
         "6.8",
         "Intermediate",
         "Thal 3",
         "Braak IV",
         "Sparse",
         "Mild",
         "Olfactory bulb only",
         "1",
         "1",
         null,
         "Mild",
         "Not Identified",
         "8.67",
         null
        ]
       ],
       "shape": {
        "columns": 70,
        "rows": 5
       }
      },
      "text/html": [
       "<div>\n",
       "<style scoped>\n",
       "    .dataframe tbody tr th:only-of-type {\n",
       "        vertical-align: middle;\n",
       "    }\n",
       "\n",
       "    .dataframe tbody tr th {\n",
       "        vertical-align: top;\n",
       "    }\n",
       "\n",
       "    .dataframe thead th {\n",
       "        text-align: right;\n",
       "    }\n",
       "</style>\n",
       "<table border=\"1\" class=\"dataframe\">\n",
       "  <thead>\n",
       "    <tr style=\"text-align: right;\">\n",
       "      <th></th>\n",
       "      <th>Donor ID</th>\n",
       "      <th>ABeta40 pg/ug</th>\n",
       "      <th>ABeta42 pg/ug</th>\n",
       "      <th>tTAU pg/ug</th>\n",
       "      <th>pTAU pg/ug</th>\n",
       "      <th>Primary Study Name</th>\n",
       "      <th>Secondary Study Name</th>\n",
       "      <th>Age at Death</th>\n",
       "      <th>Sex</th>\n",
       "      <th>Race (choice=White)</th>\n",
       "      <th>...</th>\n",
       "      <th>CERAD score</th>\n",
       "      <th>Overall CAA Score</th>\n",
       "      <th>Highest Lewy Body Disease</th>\n",
       "      <th>Total Microinfarcts (not observed grossly)</th>\n",
       "      <th>Total microinfarcts in screening sections</th>\n",
       "      <th>Atherosclerosis</th>\n",
       "      <th>Arteriolosclerosis</th>\n",
       "      <th>LATE</th>\n",
       "      <th>RIN</th>\n",
       "      <th>Severely Affected Donor</th>\n",
       "    </tr>\n",
       "  </thead>\n",
       "  <tbody>\n",
       "    <tr>\n",
       "      <th>0</th>\n",
       "      <td>H20.33.045</td>\n",
       "      <td>981.444000</td>\n",
       "      <td>142.778000</td>\n",
       "      <td>1122.432229</td>\n",
       "      <td>5.415789</td>\n",
       "      <td>ADRC Clinical Core</td>\n",
       "      <td>NaN</td>\n",
       "      <td>77</td>\n",
       "      <td>Female</td>\n",
       "      <td>Checked</td>\n",
       "      <td>...</td>\n",
       "      <td>Frequent</td>\n",
       "      <td>Not identified</td>\n",
       "      <td>Not Identified (olfactory bulb not assessed)</td>\n",
       "      <td>4</td>\n",
       "      <td>4</td>\n",
       "      <td>Moderate</td>\n",
       "      <td>Severe</td>\n",
       "      <td>LATE Stage 2</td>\n",
       "      <td>8.15</td>\n",
       "      <td>NaN</td>\n",
       "    </tr>\n",
       "    <tr>\n",
       "      <th>1</th>\n",
       "      <td>H20.33.044</td>\n",
       "      <td>0.007088</td>\n",
       "      <td>0.245263</td>\n",
       "      <td>7005.543158</td>\n",
       "      <td>5.630526</td>\n",
       "      <td>ACT</td>\n",
       "      <td>NaN</td>\n",
       "      <td>81</td>\n",
       "      <td>Male</td>\n",
       "      <td>Checked</td>\n",
       "      <td>...</td>\n",
       "      <td>Absent</td>\n",
       "      <td>Not identified</td>\n",
       "      <td>Not Identified (olfactory bulb not assessed)</td>\n",
       "      <td>3</td>\n",
       "      <td>1</td>\n",
       "      <td>Mild</td>\n",
       "      <td>Moderate</td>\n",
       "      <td>LATE Stage 1</td>\n",
       "      <td>9.20</td>\n",
       "      <td>NaN</td>\n",
       "    </tr>\n",
       "    <tr>\n",
       "      <th>2</th>\n",
       "      <td>H21.33.045</td>\n",
       "      <td>21.423158</td>\n",
       "      <td>53.878947</td>\n",
       "      <td>147.565263</td>\n",
       "      <td>11.489474</td>\n",
       "      <td>ADRC Clinical Core</td>\n",
       "      <td>NaN</td>\n",
       "      <td>94</td>\n",
       "      <td>Female</td>\n",
       "      <td>Unchecked</td>\n",
       "      <td>...</td>\n",
       "      <td>Frequent</td>\n",
       "      <td>Moderate</td>\n",
       "      <td>Limbic (Transitional)</td>\n",
       "      <td>0</td>\n",
       "      <td>0</td>\n",
       "      <td>Moderate</td>\n",
       "      <td>Moderate</td>\n",
       "      <td>LATE Stage 3</td>\n",
       "      <td>6.55</td>\n",
       "      <td>Y</td>\n",
       "    </tr>\n",
       "    <tr>\n",
       "      <th>3</th>\n",
       "      <td>H20.33.046</td>\n",
       "      <td>25.295789</td>\n",
       "      <td>69.988421</td>\n",
       "      <td>283.436842</td>\n",
       "      <td>15.917895</td>\n",
       "      <td>ACT</td>\n",
       "      <td>ADRC Clinical Core</td>\n",
       "      <td>94</td>\n",
       "      <td>Male</td>\n",
       "      <td>Checked</td>\n",
       "      <td>...</td>\n",
       "      <td>Frequent</td>\n",
       "      <td>Moderate</td>\n",
       "      <td>Not Identified (olfactory bulb not assessed)</td>\n",
       "      <td>1</td>\n",
       "      <td>1</td>\n",
       "      <td>Moderate</td>\n",
       "      <td>Severe</td>\n",
       "      <td>LATE Stage 2</td>\n",
       "      <td>5.67</td>\n",
       "      <td>Y</td>\n",
       "    </tr>\n",
       "    <tr>\n",
       "      <th>4</th>\n",
       "      <td>H20.33.014</td>\n",
       "      <td>0.526168</td>\n",
       "      <td>16.137895</td>\n",
       "      <td>258.624211</td>\n",
       "      <td>3.398947</td>\n",
       "      <td>ADRC Clinical Core</td>\n",
       "      <td>NaN</td>\n",
       "      <td>82</td>\n",
       "      <td>Female</td>\n",
       "      <td>Checked</td>\n",
       "      <td>...</td>\n",
       "      <td>Sparse</td>\n",
       "      <td>Mild</td>\n",
       "      <td>Olfactory bulb only</td>\n",
       "      <td>1</td>\n",
       "      <td>1</td>\n",
       "      <td>NaN</td>\n",
       "      <td>Mild</td>\n",
       "      <td>Not Identified</td>\n",
       "      <td>8.67</td>\n",
       "      <td>NaN</td>\n",
       "    </tr>\n",
       "  </tbody>\n",
       "</table>\n",
       "<p>5 rows × 70 columns</p>\n",
       "</div>"
      ],
      "text/plain": [
       "     Donor ID  ABeta40 pg/ug  ABeta42 pg/ug   tTAU pg/ug  pTAU pg/ug  \\\n",
       "0  H20.33.045     981.444000     142.778000  1122.432229    5.415789   \n",
       "1  H20.33.044       0.007088       0.245263  7005.543158    5.630526   \n",
       "2  H21.33.045      21.423158      53.878947   147.565263   11.489474   \n",
       "3  H20.33.046      25.295789      69.988421   283.436842   15.917895   \n",
       "4  H20.33.014       0.526168      16.137895   258.624211    3.398947   \n",
       "\n",
       "   Primary Study Name Secondary Study Name  Age at Death     Sex  \\\n",
       "0  ADRC Clinical Core                  NaN            77  Female   \n",
       "1                 ACT                  NaN            81    Male   \n",
       "2  ADRC Clinical Core                  NaN            94  Female   \n",
       "3                 ACT   ADRC Clinical Core            94    Male   \n",
       "4  ADRC Clinical Core                  NaN            82  Female   \n",
       "\n",
       "  Race (choice=White)  ... CERAD score Overall CAA Score  \\\n",
       "0             Checked  ...    Frequent    Not identified   \n",
       "1             Checked  ...      Absent    Not identified   \n",
       "2           Unchecked  ...    Frequent          Moderate   \n",
       "3             Checked  ...    Frequent          Moderate   \n",
       "4             Checked  ...      Sparse              Mild   \n",
       "\n",
       "                      Highest Lewy Body Disease  \\\n",
       "0  Not Identified (olfactory bulb not assessed)   \n",
       "1  Not Identified (olfactory bulb not assessed)   \n",
       "2                         Limbic (Transitional)   \n",
       "3  Not Identified (olfactory bulb not assessed)   \n",
       "4                           Olfactory bulb only   \n",
       "\n",
       "  Total Microinfarcts (not observed grossly)  \\\n",
       "0                                          4   \n",
       "1                                          3   \n",
       "2                                          0   \n",
       "3                                          1   \n",
       "4                                          1   \n",
       "\n",
       "  Total microinfarcts in screening sections Atherosclerosis  \\\n",
       "0                                         4        Moderate   \n",
       "1                                         1            Mild   \n",
       "2                                         0        Moderate   \n",
       "3                                         1        Moderate   \n",
       "4                                         1             NaN   \n",
       "\n",
       "  Arteriolosclerosis            LATE   RIN  Severely Affected Donor  \n",
       "0             Severe    LATE Stage 2  8.15                      NaN  \n",
       "1           Moderate    LATE Stage 1  9.20                      NaN  \n",
       "2           Moderate    LATE Stage 3  6.55                        Y  \n",
       "3             Severe    LATE Stage 2  5.67                        Y  \n",
       "4               Mild  Not Identified  8.67                      NaN  \n",
       "\n",
       "[5 rows x 70 columns]"
      ]
     },
     "metadata": {},
     "output_type": "display_data"
    }
   ],
   "source": [
    "# only merge if merge file doesn't exist\n",
    "try:\n",
    "    merged = pd.read_csv(\"../data/merged.csv\")\n",
    "    display(merged.head())\n",
    "except FileNotFoundError:\n",
    "    merged = pd.merge(luminex, metadata, on=\"Donor ID\")\n",
    "    display(merged.head())\n",
    "    merged.to_csv(\"../data/merged.csv\", index=False)"
   ]
  },
  {
   "cell_type": "code",
   "execution_count": 12,
   "id": "287764bf",
   "metadata": {},
   "outputs": [
    {
     "name": "stdout",
     "output_type": "stream",
     "text": [
      "Index(['Donor ID', 'ABeta40 pg/ug', 'ABeta42 pg/ug', 'tTAU pg/ug',\n",
      "       'pTAU pg/ug', 'Primary Study Name', 'Secondary Study Name',\n",
      "       'Age at Death', 'Sex', 'Race (choice=White)',\n",
      "       'Race (choice=Black/ African American)', 'Race (choice=Asian)',\n",
      "       'Race (choice=American Indian/ Alaska Native)',\n",
      "       'Race (choice=Native Hawaiian or Pacific Islander)',\n",
      "       'Race (choice=Unknown or unreported)', 'Race (choice=Other)',\n",
      "       'specify other race', 'Hispanic/Latino', 'Highest level of education',\n",
      "       'Years of education', 'APOE Genotype', 'Cognitive Status',\n",
      "       'Age of onset cognitive symptoms', 'Age of Dementia diagnosis',\n",
      "       'Known head injury', 'Have they had neuroimaging',\n",
      "       'Consensus Clinical Dx (choice=Alzheimers disease)',\n",
      "       'Consensus Clinical Dx (choice=Alzheimers Possible/ Probable)',\n",
      "       'Consensus Clinical Dx (choice=Ataxia)',\n",
      "       'Consensus Clinical Dx (choice=Corticobasal Degeneration)',\n",
      "       'Consensus Clinical Dx (choice=Control)',\n",
      "       'Consensus Clinical Dx (choice=Dementia with Lewy Bodies/ Lewy Body Disease)',\n",
      "       'Consensus Clinical Dx (choice=Frontotemporal lobar degeneration)',\n",
      "       'Consensus Clinical Dx (choice=Huntingtons disease)',\n",
      "       'Consensus Clinical Dx (choice=Motor Neuron disease)',\n",
      "       'Consensus Clinical Dx (choice=Multiple System Atrophy)',\n",
      "       'Consensus Clinical Dx (choice=Parkinsons disease)',\n",
      "       'Consensus Clinical Dx (choice=Parkinsons Cognitive Impairment - no dementia)',\n",
      "       'Consensus Clinical Dx (choice=Parkinsons Disease Dementia)',\n",
      "       'Consensus Clinical Dx (choice=Prion)',\n",
      "       'Consensus Clinical Dx (choice=Progressive Supranuclear Palsy)',\n",
      "       'Consensus Clinical Dx (choice=Taupathy)',\n",
      "       'Consensus Clinical Dx (choice=Vascular Dementia)',\n",
      "       'Consensus Clinical Dx (choice=Unknown)',\n",
      "       'Consensus Clinical Dx (choice=Other)',\n",
      "       'If other Consensus dx, describe', 'Last CASI Score',\n",
      "       'Interval from last CASI in months', 'Last MMSE Score',\n",
      "       'Interval from last MMSE in months', 'Last MOCA Score',\n",
      "       'Interval from last MOCA in months', 'PMI', 'Rapid Frozen Tissue Type',\n",
      "       'Ex Vivo Imaging', 'Fresh Brain Weight', 'Brain pH',\n",
      "       'Overall AD neuropathological Change', 'Thal', 'Braak', 'CERAD score',\n",
      "       'Overall CAA Score', 'Highest Lewy Body Disease',\n",
      "       'Total Microinfarcts (not observed grossly)',\n",
      "       'Total microinfarcts in screening sections', 'Atherosclerosis',\n",
      "       'Arteriolosclerosis', 'LATE', 'RIN', 'Severely Affected Donor'],\n",
      "      dtype='object')\n"
     ]
    }
   ],
   "source": [
    "# print(luminex.columns)\n",
    "# print(metadata.columns)\n",
    "print(merged.columns)"
   ]
  },
  {
   "cell_type": "code",
   "execution_count": 13,
   "id": "039d6a01",
   "metadata": {},
   "outputs": [],
   "source": [
    "# TODO: isolation forest to remove outliers\n"
   ]
  },
  {
   "cell_type": "code",
   "execution_count": 14,
   "id": "76b68331",
   "metadata": {},
   "outputs": [
    {
     "data": {
      "application/vnd.microsoft.datawrangler.viewer.v0+json": {
       "columns": [
        {
         "name": "index",
         "rawType": "object",
         "type": "string"
        },
        {
         "name": "tTAU pg/ug",
         "rawType": "float64",
         "type": "float"
        }
       ],
       "ref": "026430f5-87bd-4683-a829-6e40679d8bff",
       "rows": [
        [
         "count",
         "84.0"
        ],
        [
         "mean",
         "498.23997329476185"
        ],
        [
         "std",
         "782.0273693079544"
        ],
        [
         "min",
         "21.71894737"
        ],
        [
         "25%",
         "197.268157925"
        ],
        [
         "50%",
         "316.02684215"
        ],
        [
         "75%",
         "560.955263175"
        ],
        [
         "max",
         "7005.543158"
        ]
       ],
       "shape": {
        "columns": 1,
        "rows": 8
       }
      },
      "text/plain": [
       "count      84.000000\n",
       "mean      498.239973\n",
       "std       782.027369\n",
       "min        21.718947\n",
       "25%       197.268158\n",
       "50%       316.026842\n",
       "75%       560.955263\n",
       "max      7005.543158\n",
       "Name: tTAU pg/ug, dtype: float64"
      ]
     },
     "metadata": {},
     "output_type": "display_data"
    },
    {
     "data": {
      "application/vnd.microsoft.datawrangler.viewer.v0+json": {
       "columns": [
        {
         "name": "index",
         "rawType": "object",
         "type": "string"
        },
        {
         "name": "tTAU pg/ug",
         "rawType": "float64",
         "type": "float"
        }
       ],
       "ref": "4aa9807c-67b4-4ce6-9e59-ac68e9cfc0bf",
       "rows": [
        [
         "count",
         "83.0"
        ],
        [
         "mean",
         "419.83873010554214"
        ],
        [
         "std",
         "310.4848594088065"
        ],
        [
         "min",
         "21.71894737"
        ],
        [
         "25%",
         "197.17736845000002"
        ],
        [
         "50%",
         "313.5252632"
        ],
        [
         "75%",
         "554.0078947500001"
        ],
        [
         "max",
         "1552.414737"
        ]
       ],
       "shape": {
        "columns": 1,
        "rows": 8
       }
      },
      "text/plain": [
       "count      83.000000\n",
       "mean      419.838730\n",
       "std       310.484859\n",
       "min        21.718947\n",
       "25%       197.177368\n",
       "50%       313.525263\n",
       "75%       554.007895\n",
       "max      1552.414737\n",
       "Name: tTAU pg/ug, dtype: float64"
      ]
     },
     "metadata": {},
     "output_type": "display_data"
    }
   ],
   "source": [
    "# remove outlier in tTAU\n",
    "merged_filtered = merged[merged[\"tTAU pg/ug\"] < 5000]\n",
    "display(merged[\"tTAU pg/ug\"].describe())\n",
    "display(merged_filtered[\"tTAU pg/ug\"].describe())\n",
    "\n",
    "merged_filtered.to_csv(\"../data/merged_filtered.csv\", index=False)"
   ]
  },
  {
   "cell_type": "code",
   "execution_count": 15,
   "id": "0e7d24c4",
   "metadata": {},
   "outputs": [
    {
     "data": {
      "application/vnd.microsoft.datawrangler.viewer.v0+json": {
       "columns": [
        {
         "name": "index",
         "rawType": "int64",
         "type": "integer"
        },
        {
         "name": "APOE Genotype",
         "rawType": "object",
         "type": "string"
        }
       ],
       "ref": "78371643-5218-44a3-bff6-ec6766209224",
       "rows": [
        [
         "0",
         "4/4"
        ],
        [
         "2",
         "3/4"
        ],
        [
         "3",
         "3/3"
        ],
        [
         "4",
         "3/3"
        ],
        [
         "5",
         "3/3"
        ],
        [
         "6",
         "3/3"
        ],
        [
         "7",
         "3/4"
        ],
        [
         "8",
         "3/3"
        ],
        [
         "9",
         "3/3"
        ],
        [
         "10",
         "2/3"
        ],
        [
         "11",
         "3/3"
        ],
        [
         "12",
         "3/3"
        ],
        [
         "13",
         "3/3"
        ],
        [
         "14",
         "3/3"
        ],
        [
         "15",
         "3/4"
        ],
        [
         "16",
         "3/3"
        ],
        [
         "17",
         "3/3"
        ],
        [
         "18",
         "3/3"
        ],
        [
         "19",
         "3/4"
        ],
        [
         "20",
         "3/4"
        ],
        [
         "21",
         "2/3"
        ],
        [
         "22",
         "4/4"
        ],
        [
         "23",
         "3/3"
        ],
        [
         "24",
         "3/3"
        ],
        [
         "25",
         "3/3"
        ],
        [
         "26",
         "3/4"
        ],
        [
         "27",
         "3/3"
        ],
        [
         "28",
         "2/3"
        ],
        [
         "29",
         "3/3"
        ],
        [
         "30",
         "3/4"
        ],
        [
         "31",
         "3/3"
        ],
        [
         "32",
         "3/4"
        ],
        [
         "33",
         "3/3"
        ],
        [
         "34",
         "4/4"
        ],
        [
         "35",
         "3/3"
        ],
        [
         "36",
         "3/3"
        ],
        [
         "37",
         "2/2"
        ],
        [
         "38",
         "3/3"
        ],
        [
         "39",
         "2/3"
        ],
        [
         "40",
         "3/3"
        ],
        [
         "41",
         "4/4"
        ],
        [
         "42",
         "2/3"
        ],
        [
         "43",
         "2/4"
        ],
        [
         "44",
         "3/3"
        ],
        [
         "45",
         "3/3"
        ],
        [
         "46",
         "3/3"
        ],
        [
         "47",
         "3/3"
        ],
        [
         "48",
         "4/4"
        ],
        [
         "49",
         "3/3"
        ],
        [
         "50",
         "3/3"
        ]
       ],
       "shape": {
        "columns": 1,
        "rows": 83
       }
      },
      "text/plain": [
       "0     4/4\n",
       "2     3/4\n",
       "3     3/3\n",
       "4     3/3\n",
       "5     3/3\n",
       "     ... \n",
       "79    3/3\n",
       "80    3/4\n",
       "81    2/3\n",
       "82    4/4\n",
       "83    3/3\n",
       "Name: APOE Genotype, Length: 83, dtype: object"
      ]
     },
     "execution_count": 15,
     "metadata": {},
     "output_type": "execute_result"
    }
   ],
   "source": [
    "# double check APOE genotype column\n",
    "merged_filtered[\"APOE Genotype\"]"
   ]
  }
 ],
 "metadata": {
  "kernelspec": {
   "display_name": "venv",
   "language": "python",
   "name": "python3"
  },
  "language_info": {
   "codemirror_mode": {
    "name": "ipython",
    "version": 3
   },
   "file_extension": ".py",
   "mimetype": "text/x-python",
   "name": "python",
   "nbconvert_exporter": "python",
   "pygments_lexer": "ipython3",
   "version": "3.10.0"
  }
 },
 "nbformat": 4,
 "nbformat_minor": 5
}
