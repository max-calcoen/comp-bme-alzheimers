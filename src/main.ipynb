{
 "cells": [
  {
   "cell_type": "code",
   "execution_count": 1,
   "id": "f9a1f552",
   "metadata": {},
   "outputs": [],
   "source": [
    "import pandas as pd\n",
    "import seaborn as sns\n",
    "import matplotlib.pyplot as plt\n",
    "\n",
    "luminex = pd.read_csv(\"../data/UpdatedLuminex.csv\")\n",
    "metadata = pd.read_csv(\"../data/Metadata_v2.csv\")\n",
    "df = pd.read_csv(\"../data/merged_filtered.csv\")"
   ]
  },
  {
   "cell_type": "code",
   "execution_count": 2,
   "id": "7804f29a",
   "metadata": {},
   "outputs": [],
   "source": [
    "from statsmodels.formula.api import ols\n",
    "import statsmodels.api as sm\n",
    "\n",
    "# data cleaning and preprocessing / feature engineering\n",
    "df[\"Thal (n)\"] = df[\"Thal\"].str.split(\" \").str[1].astype(int)\n",
    "\n",
    "df[\"ABeta ratio\"] = df[\"ABeta42 pg/ug\"] / df[\"ABeta40 pg/ug\"]\n",
    "df[\"TAU ratio\"] = df[\"pTAU pg/ug\"] / df[\"tTAU pg/ug\"]\n",
    "education_order = [\n",
    "    \"High School\",\n",
    "    \"Trade School/ Tech School\",\n",
    "    \"Bachelors\",\n",
    "    \"Graduate (PhD/Masters)\",\n",
    "    \"Professional\",\n",
    "]\n",
    "df[\"Highest level of education\"] = pd.Categorical(\n",
    "    df[\"Highest level of education\"], categories=education_order, ordered=True\n",
    ")\n",
    "# condense into 2 groups, high school and post-secondary\n",
    "df[\"Post-secondary\"] = df[\"Highest level of education\"].apply(\n",
    "    lambda x: \"High School\" if x == \"High School\" else \"Post-Secondary\"\n",
    ")\n",
    "# condense into 2 groups, e4+ and e4-\n",
    "df[\"APOE Genotype 4\"] = df[\"APOE Genotype\"].apply(\n",
    "    lambda x: \"e4+\" if \"4\" in x else \"e4-\"\n",
    ")"
   ]
  },
  {
   "cell_type": "code",
   "execution_count": 3,
   "id": "a77a9990",
   "metadata": {},
   "outputs": [],
   "source": [
    "# define x and y for analysis\n",
    "x = \"Post-secondary\"\n",
    "y = \"TAU ratio\""
   ]
  },
  {
   "cell_type": "code",
   "execution_count": 4,
   "id": "6c0fd8bc",
   "metadata": {},
   "outputs": [
    {
     "data": {
      "image/png": "[encoded data removed]",
      "text/plain": [
       "<Figure size 1000x600 with 1 Axes>"
      ]
     },
     "metadata": {},
     "output_type": "display_data"
    }
   ],
   "source": [
    "plt.figure(figsize=(10, 6))\n",
    "sns.barplot(data=df, x=x, y=y, errorbar=\"se\")\n",
    "plt.ylabel(y)\n",
    "plt.xlabel(x)\n",
    "plt.title(f\"{y} by {x}\")\n",
    "plt.xticks(rotation=45)\n",
    "plt.tight_layout()\n",
    "plt.show()"
   ]
  },
  {
   "cell_type": "code",
   "execution_count": null,
   "id": "4d75bc81",
   "metadata": {},
   "outputs": [
    {
     "name": "stdout",
     "output_type": "stream",
     "text": [
      "T-test between High School and Post-Secondary for TAU ratio: t-statistic = 2.033778045320868, p-value = 0.04524761826063113\n"
     ]
    }
   ],
   "source": [
    "# t-test between the two groups\n",
    "from scipy import stats\n",
    "group1_name = \"High School\"\n",
    "group2_name = \"Post-Secondary\"\n",
    "\n",
    "group1 = df[df[x] == group1_name][y].dropna()\n",
    "group2 = df[df[x] == group2_name][y].dropna()\n",
    "\n",
    "t_stat, p_value = stats.ttest_ind(group1, group2)\n",
    "print(f\"T-test between {group1_name} and {group2_name} for {y}: t-statistic = {t_stat}, p-value = {p_value}\")"
   ]
  },
  {
   "cell_type": "code",
   "execution_count": null,
   "id": "5347772e",
   "metadata": {},
   "outputs": [
    {
     "name": "stdout",
     "output_type": "stream",
     "text": [
      "                       sum_sq    df         F    PR(>F)\n",
      "Q(\"Post-secondary\")  0.002314   1.0  4.136253  0.045248\n",
      "Residual             0.045311  81.0       NaN       NaN\n"
     ]
    }
   ],
   "source": [
    "# run ANOVA for every group in x\n",
    "try:\n",
    "    model = ols(f'Q(\"{y}\") ~ Q(\"{x}\")', data=df).fit()\n",
    "except Exception as e:\n",
    "    print(\"likely bad columns specified\")\n",
    "    print(f\"Error in model fitting: {e}\")\n",
    "anova_table = sm.stats.anova_lm(model, typ=2)\n",
    "print(anova_table)"
   ]
  },
  {
   "cell_type": "code",
   "execution_count": 9,
   "id": "5f275e09",
   "metadata": {},
   "outputs": [
    {
     "name": "stdout",
     "output_type": "stream",
     "text": [
      "       Multiple Comparison of Means - Tukey HSD, FWER=0.05       \n",
      "=================================================================\n",
      "   group1       group2     meandiff p-adj   lower   upper  reject\n",
      "-----------------------------------------------------------------\n",
      "High School Post-Secondary  -0.0128 0.0452 -0.0253 -0.0003   True\n",
      "-----------------------------------------------------------------\n"
     ]
    }
   ],
   "source": [
    "# run Tukey's HSD test for post-hoc analysis (anova)\n",
    "from statsmodels.stats.multicomp import pairwise_tukeyhsd\n",
    "tukey = pairwise_tukeyhsd(endog=df[y], groups=df[x], alpha=0.05)\n",
    "print(tukey)"
   ]
  }
 ],
 "metadata": {
  "kernelspec": {
   "display_name": "venv",
   "language": "python",
   "name": "python3"
  },
  "language_info": {
   "codemirror_mode": {
    "name": "ipython",
    "version": 3
   },
   "file_extension": ".py",
   "mimetype": "text/x-python",
   "name": "python",
   "nbconvert_exporter": "python",
   "pygments_lexer": "ipython3",
   "version": "3.10.0"
  }
 },
 "nbformat": 4,
 "nbformat_minor": 5
}
